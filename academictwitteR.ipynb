{
 "cells": [
  {
   "cell_type": "markdown",
   "metadata": {},
   "source": [
    "# academictwitteR"
   ]
  },
  {
   "cell_type": "markdown",
   "metadata": {},
   "source": [
    "The release of the new [Twitter v2 API](https://developer.twitter.com/en/support/twitter-api/v2) with its [academic research access](https://developer.twitter.com/en/products/twitter-api/academic-research) option has sparked the creation of several new `R` packages. Among those, [`academictwitteR`](https://github.com/cjbarrie/academictwitteR) has the best documentation and is the easiest one to use for collecting Twitter data. Hence, we will focus on that package in this notebook. Another new `R` package that makes use of the v2 API is [`voson.tcn`](https://vosonlab.github.io/voson.tcn/) (from [*VOSON Lab*](http://vosonlab.net/) who also created [`vosonSML`](https://vosonlab.github.io/vosonSML/)). However, `voson.tcn` was created for analyzing conversation networks on Twitter, so the units of analyses are conversations instead of users for that package."
   ]
  },
  {
   "cell_type": "markdown",
   "metadata": {},
   "source": [
    "*Note*: The first version of the `academictwitteR` was based on a [gist](https://gist.github.com/schochastics/1ff42c0211916d73fc98ba8ad0dcb261) by [David Schoch](https://gist.github.com/schochastics) (who now also works at GESIS)."
   ]
  },
  {
   "cell_type": "markdown",
   "metadata": {},
   "source": [
    "## Load packages"
   ]
  },
  {
   "cell_type": "markdown",
   "metadata": {},
   "source": [
    "In addition to the `academictwitteR` package, we load the packages from the [`tidyverse`](https://www.tidyverse.org/) for some (minor) data wrangling."
   ]
  },
  {
   "cell_type": "code",
   "execution_count": null,
   "metadata": {},
   "outputs": [],
   "source": [
    "library(academictwitteR)\n",
    "library(tidyverse)"
   ]
  },
  {
   "cell_type": "markdown",
   "metadata": {},
   "source": [
    "## Authentication"
   ]
  },
  {
   "cell_type": "markdown",
   "metadata": {},
   "source": [
    "Before we can collect data via the Twitter v2 API, we need to set up our credentials."
   ]
  },
  {
   "cell_type": "markdown",
   "metadata": {},
   "source": [
    "**NB**: You should treat all information relating to your API access like a password and never share it or post it publicly anywhere. Although nobody except you should be able to access your personal instance of this notebook, if you want to be extra cautious, you can delete your API access information from the following cell after running it once (and save the notebook again after that)."
   ]
  },
  {
   "cell_type": "code",
   "execution_count": null,
   "metadata": {},
   "outputs": [],
   "source": [
    "# enter a bearer token for your v2 API app here\n",
    "bearer_token <- \"\""
   ]
  },
  {
   "cell_type": "markdown",
   "metadata": {},
   "source": [
    "## Import list of accounts"
   ]
  },
  {
   "cell_type": "markdown",
   "metadata": {},
   "source": [
    "The file [twitter_accounts.csv](./data/twitter_accounts.csv) in the `data` folder of this repository contains the Twitter screen names of [*GESIS - Leibniz Institute for the Social Sciences*](https://twitter.com/gesis_org), [*GESIS Training*](https://twitter.com/gesistraining/) and the [*Social Data Science Lab*](https://twitter.com/socdatalab) at *Cardiff University* which we will use in the following examples."
   ]
  },
  {
   "cell_type": "code",
   "execution_count": null,
   "metadata": {},
   "outputs": [],
   "source": [
    "users_df <- read_csv(\"./data/twitter_accounts.csv\")\n",
    "users <- users_df %>%\n",
    "    pull(Screen_Name)"
   ]
  },
  {
   "cell_type": "markdown",
   "metadata": {},
   "source": [
    "## Collecting tweets from specific users"
   ]
  },
  {
   "cell_type": "markdown",
   "metadata": {},
   "source": [
    "We now collect all tweets sent from these accounts between January 1st and June 22nd, 2022. We limit the maximum number of tweets to 1000, and save the resulting `JSON` files in the `data` folder."
   ]
  },
  {
   "cell_type": "code",
   "execution_count": null,
   "metadata": {},
   "outputs": [],
   "source": [
    "tweets_df <- get_all_tweets(\n",
    "    users = users,\n",
    "    start_tweets = \"2021-01-01T00:00:00Z\",\n",
    "    end_tweets = \"2022-06-22T00:00:00Z\",\n",
    "    n = 10000,\n",
    "    data_path = \"./data\",\n",
    "    bearer_token = bearer_token\n",
    "  )"
   ]
  },
  {
   "cell_type": "markdown",
   "metadata": {},
   "source": [
    "From these `JSON` files, we can now create an `R` dataframe."
   ]
  },
  {
   "cell_type": "code",
   "execution_count": null,
   "metadata": {},
   "outputs": [],
   "source": [
    "tweets <- bind_tweets(data_path = \"data/\",\n",
    "                      output_format = \"tidy\")"
   ]
  },
  {
   "cell_type": "markdown",
   "metadata": {},
   "source": [
    "We can now have a first look at the data."
   ]
  },
  {
   "cell_type": "code",
   "execution_count": null,
   "metadata": {},
   "outputs": [],
   "source": [
    "glimpse(tweets)"
   ]
  },
  {
   "cell_type": "markdown",
   "metadata": {},
   "source": [
    "## User information"
   ]
  },
  {
   "cell_type": "markdown",
   "metadata": {},
   "source": [
    "If we want to get some (additional) information about the accounts, we can use the `get_user_profile` function. To use this, we need the user ID (instead of the screen name)."
   ]
  },
  {
   "cell_type": "code",
   "execution_count": null,
   "metadata": {},
   "outputs": [],
   "source": [
    "profiles <- get_user_profile(unique(tweets$author_id),\n",
    "                             bearer_token)"
   ]
  },
  {
   "cell_type": "markdown",
   "metadata": {},
   "source": [
    "We can also check what these look like."
   ]
  },
  {
   "cell_type": "code",
   "execution_count": null,
   "metadata": {},
   "outputs": [],
   "source": [
    "glimpse(profiles)"
   ]
  },
  {
   "cell_type": "markdown",
   "metadata": {},
   "source": [
    "We can now combine the profile information with the tweets data. In the following cell, we just use the variables `name`, `username`, and `location` from the profile information."
   ]
  },
  {
   "cell_type": "code",
   "execution_count": null,
   "metadata": {},
   "outputs": [],
   "source": [
    "tweets_combined <- tweets_df %>% \n",
    "    left_join(select(profiles, id, name, username, location),\n",
    "              by = c(\"author_id\" = \"id\"))"
   ]
  },
  {
   "cell_type": "markdown",
   "metadata": {},
   "source": [
    "## Followed accounts"
   ]
  },
  {
   "cell_type": "markdown",
   "metadata": {},
   "source": [
    "If we are (also) interested in network data, we can make use of functions from the `academictwitteR` package that allow us to collect information about the accounts a user follows or is followed by. In the following example, we will gather information about the accounts that our three exemplary accounts follow. We, again, need the user IDs for this."
   ]
  },
  {
   "cell_type": "code",
   "execution_count": null,
   "metadata": {},
   "outputs": [],
   "source": [
    "ids <- profiles %>% \n",
    "    pull(id)\n",
    "\n",
    "followed <- get_user_following(ids, bearer_token)"
   ]
  },
  {
   "cell_type": "code",
   "execution_count": null,
   "metadata": {},
   "outputs": [],
   "source": [
    "glimpse(followed)"
   ]
  },
  {
   "cell_type": "markdown",
   "metadata": {},
   "source": [
    "## Process & save results"
   ]
  },
  {
   "cell_type": "markdown",
   "metadata": {},
   "source": [
    "If we check the types of columns in the `tweets_combined` object, we can see that some of them are lists or dataframes."
   ]
  },
  {
   "cell_type": "code",
   "execution_count": null,
   "metadata": {},
   "outputs": [],
   "source": [
    "sapply(tweets_combined, class)"
   ]
  },
  {
   "cell_type": "markdown",
   "metadata": {},
   "source": [
    "For example, the column `public_metrics` that contains information on how often a tweet has been liked, retweeted, quoted, or replied to is a dataframe."
   ]
  },
  {
   "cell_type": "code",
   "execution_count": null,
   "metadata": {},
   "outputs": [],
   "source": [
    "glimpse(tweets_combined$public_metrics)"
   ]
  },
  {
   "cell_type": "markdown",
   "metadata": {},
   "source": [
    "If we want to save our results as a `.csv` file using the `dplyr` function `write_csv()`(or the base `R` function `write.csv()`), the object cannot include list- or dataframe-columns. To solve this issue, we could split the list columns into \"regular\" vector columns (e.g., using the [`unnest()` function](https://tidyr.tidyverse.org/reference/nest.html) from the [`tidyr` package](https://tidyr.tidyverse.org/index.html)) and/or append the dataframe columns (using `bind_cols()` from `dplyr` or `cbind()` from base `R`). However, to keep it simple here, we will just remove all dataframe- and list-columns and so that we can save the resulting object in a `.csv` file."
   ]
  },
  {
   "cell_type": "code",
   "execution_count": null,
   "metadata": {},
   "outputs": [],
   "source": [
    "tweets_combined_df <- tweets_combined %>% \n",
    "    select(where(~ !is.data.frame(.x) & !is.list(.x)))"
   ]
  },
  {
   "cell_type": "markdown",
   "metadata": {},
   "source": [
    "Before we save the resulting dataframe as `csv`, we can check it to make sure that it does not contain any list- or dataframe-columns anymore."
   ]
  },
  {
   "cell_type": "code",
   "execution_count": null,
   "metadata": {},
   "outputs": [],
   "source": [
    "glimpse(tweets_combined_df)"
   ]
  },
  {
   "cell_type": "code",
   "execution_count": null,
   "metadata": {},
   "outputs": [],
   "source": [
    "write_csv(tweets_combined_df, \"./data/tweets_r.csv\")"
   ]
  },
  {
   "cell_type": "markdown",
   "metadata": {},
   "source": [
    "We need to go through the same steps for the data on the followed accounts."
   ]
  },
  {
   "cell_type": "code",
   "execution_count": null,
   "metadata": {},
   "outputs": [],
   "source": [
    "followed <- followed %>% \n",
    "    select(where(~ !is.data.frame(.x)))\n",
    "\n",
    "write_csv(followed, \"./data/followed_r.csv\")"
   ]
  }
 ],
 "metadata": {
  "kernelspec": {
   "display_name": "R",
   "language": "R",
   "name": "ir"
  },
  "language_info": {
   "codemirror_mode": "r",
   "file_extension": ".r",
   "mimetype": "text/x-r-source",
   "name": "R",
   "pygments_lexer": "r",
   "version": "4.1.3"
  }
 },
 "nbformat": 4,
 "nbformat_minor": 4
}
