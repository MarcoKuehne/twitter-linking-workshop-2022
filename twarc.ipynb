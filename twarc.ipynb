{
 "cells": [
  {
   "cell_type": "markdown",
   "metadata": {},
   "source": [
    "# twarc"
   ]
  },
  {
   "cell_type": "markdown",
   "metadata": {},
   "source": [
    "[`twarc`](https://twarc-project.readthedocs.io/en/latest/) is a [command-line interface](https://en.wikipedia.org/wiki/Command-line_interface) (CLI) tool (and also a `Python` library). To use it on your computer, you need to have `Python` installed. As there are different CLI and their availability depends on your operating system (OS), the ways in which you install and use `twarc` on your computer can differ (see, e.g., the [specific instructions for Windows 10 in the `twarc` documentation](ttps://twarc-project.readthedocs.io/en/latest/windows10/)). The [*Docker*](https://www.docker.com/) image that is used for this executable environment via [*mybinder.org*](https://mybinder.org/) uses Linux as the OS. Depending on your OS and setup, on your local computer you can, e.g., use `twarc` via `Bash` (Linux), the *Terminal* (MacOS) or the *Command Prompt* (Windows)."
   ]
  },
  {
   "cell_type": "markdown",
   "metadata": {},
   "source": [
    "## Authentication"
   ]
  },
  {
   "cell_type": "markdown",
   "metadata": {},
   "source": [
    "If you use `twarc` on your local computer, you can use the command `twarc2 configure` provide and store your access credentials for the Twitter API. However, as an interactive use of the CLI is not possible in a *Jupyter Notebook*, we have to provide the credentials (in this case the bearer token) as an option every time we execute a command."
   ]
  },
  {
   "cell_type": "markdown",
   "metadata": {},
   "source": [
    "## User information"
   ]
  },
  {
   "cell_type": "markdown",
   "metadata": {},
   "source": [
    "The file [users.txt](./data/users.txt) in the `data` folder contains the Twitter screen names of [*GESIS - Leibniz Institute for the Social Sciences*](https://twitter.com/gesis_org), [*GESIS Training*](https://twitter.com/gesistraining/) and the [*Social Data Science Lab*](https://twitter.com/socdatalab) at *Cardiff University* which we will use in the following examples."
   ]
  },
  {
   "cell_type": "markdown",
   "metadata": {},
   "source": [
    "We can now use those screen names to retrieve some information about the accounts."
   ]
  },
  {
   "cell_type": "code",
   "execution_count": null,
   "metadata": {},
   "outputs": [],
   "source": [
    "twarc2 --bearer-token INSERT_TOKEN users --usernames ./data/users.txt ./data/users.jsonl"
   ]
  },
  {
   "cell_type": "markdown",
   "metadata": {},
   "source": [
    "## Collecting tweets from specific users"
   ]
  },
  {
   "cell_type": "markdown",
   "metadata": {},
   "source": [
    "The easiest way of searching for tweets (e.g., from specific users) is via a `.txt` file that contains search queries (one per row). The file [queries.txt](./data/queries.txt) in the `data` folder contains one such query. In this example, we collect all tweets from those the accounts of *GESIS*, *GESIS Training*, and the *Social Data Science Lab* from January 1st to June 22nd, 2022."
   ]
  },
  {
   "cell_type": "code",
   "execution_count": null,
   "metadata": {},
   "outputs": [],
   "source": [
    "twarc2 --bearer-token INSERT_TOKEN searches --archive --start-time 2022-01-01 --end-time 2022-06-22 ./data/queries.txt ./data/account_tweets.json"
   ]
  },
  {
   "cell_type": "markdown",
   "metadata": {},
   "source": [
    "## Saving the results"
   ]
  },
  {
   "cell_type": "markdown",
   "metadata": {},
   "source": [
    "If we want to export the resulting data which are stored in `JSON` files into `.csv` files, we can make use of the `twarc` plugin [`twarc-csv`](https://pypi.org/project/twarc-csv/)."
   ]
  },
  {
   "cell_type": "code",
   "execution_count": null,
   "metadata": {},
   "outputs": [],
   "source": [
    "twarc2 --bearer-token INSERT_TOKEN csv ./data/account_tweets.json ./data/twarc_tweets.csv"
   ]
  },
  {
   "cell_type": "code",
   "execution_count": null,
   "metadata": {},
   "outputs": [],
   "source": [
    "twarc2 --bearer-token INSERT_TOKEN csv --input-data-type users ./data/users.jsonl ./data/twarc_users.csv"
   ]
  }
 ],
 "metadata": {
  "kernelspec": {
   "display_name": "Bash",
   "language": "bash",
   "name": "bash"
  },
  "language_info": {
   "codemirror_mode": "shell",
   "file_extension": ".sh",
   "mimetype": "text/x-sh",
   "name": "bash"
  }
 },
 "nbformat": 4,
 "nbformat_minor": 4
}
